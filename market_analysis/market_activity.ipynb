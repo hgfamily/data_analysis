{
 "cells": [
  {
   "cell_type": "code",
   "execution_count": 1,
   "metadata": {
    "collapsed": false
   },
   "outputs": [],
   "source": [
    "#会员活动数据营销预测\n",
    "import time\n",
    "import numpy as np\n",
    "import pandas as pd\n",
    "#导入数据处理库\n",
    "from sklearn.preprocessing import OneHotEncoder\n",
    "#导入模型选择库\n",
    "from sklearn.model_selection import train_test_split,StratifiedKFold,cross_val_score\n",
    "#导入特征选择库\n",
    "from sklearn.feature_selection import SelectPercentile,f_classif\n",
    "#导入集成算法库\n",
    "from sklearn.ensemble import AdaBoostClassifier\n",
    "#导入Pipeline库\n",
    "from sklearn.pipeline import Pipeline\n",
    "#导入评估指标库\n",
    "from sklearn.metrics import accuracy_score"
   ]
  },
  {
   "cell_type": "code",
   "execution_count": 2,
   "metadata": {
    "collapsed": false
   },
   "outputs": [],
   "source": [
    "#加载数据集\n",
    "df=pd.read_excel('market_activity.xlsx')"
   ]
  },
  {
   "cell_type": "code",
   "execution_count": 3,
   "metadata": {
    "collapsed": false
   },
   "outputs": [
    {
     "name": "stdout",
     "output_type": "stream",
     "text": [
      "数据概览:\n",
      "--------------------------------------------------------------------------------\n",
      "数据记录数:48000\t特征数量:13\n",
      "    age  total_pageviews  edu  edu_ages  user_level  industry  value_level  \\\n",
      "0  24.0          32921.0  2.0       9.0         1.0       6.0            1   \n",
      "1  26.0         397317.0  3.0      14.0         1.0       4.0            1   \n",
      "2  19.0         170653.0  2.0       9.0         1.0      12.0            4   \n",
      "3  51.0         259323.0  1.0       NaN         2.0       2.0            2   \n",
      "4  42.0         254817.0  2.0      10.0         1.0       4.0            1   \n",
      "\n",
      "   act_level  sex  blue_money  red_money  work_hours  region  response  \n",
      "0        1.0  1.0           0        0.0          40     1.0         0  \n",
      "1        1.0  0.0           0     1876.0          40     1.0         0  \n",
      "2        1.0  1.0           0        0.0          40    15.0         0  \n",
      "3        1.0  1.0           0        0.0          50     1.0         1  \n",
      "4        1.0  0.0           0     1340.0          40     1.0         0  \n",
      "--------------------------------------------------------------------------------\n",
      "基本描述性信息:\n",
      "                age  total_pageviews           edu      edu_ages  \\\n",
      "count  47999.000000     4.799900e+04  47999.000000  47999.000000   \n",
      "mean      38.646847     1.895823e+05      2.507552     10.079022   \n",
      "std       13.703897     1.055553e+05      1.631630      2.570581   \n",
      "min       17.000000     1.228500e+04      1.000000      1.000000   \n",
      "25%       28.000000     1.175520e+05      2.000000      9.000000   \n",
      "50%       37.000000     1.781470e+05      2.000000     10.000000   \n",
      "75%       48.000000     2.374720e+05      2.000000     12.000000   \n",
      "max       90.000000     1.490400e+06     10.000000     16.000000   \n",
      "\n",
      "         user_level      industry   value_level     act_level           sex  \\\n",
      "count  47999.000000  47998.000000  48000.000000  47999.000000  47999.000000   \n",
      "mean       2.083210      5.687549      2.538083      1.220046      0.668951   \n",
      "std        1.255976      3.399571      1.438955      0.625311      0.470595   \n",
      "min        1.000000      1.000000      1.000000      1.000000      0.000000   \n",
      "25%        1.000000      3.000000      1.000000      1.000000      0.000000   \n",
      "50%        2.000000      5.000000      2.000000      1.000000      1.000000   \n",
      "75%        2.000000      8.000000      4.000000      1.000000      1.000000   \n",
      "max        7.000000     15.000000      6.000000      5.000000      1.000000   \n",
      "\n",
      "         blue_money     red_money    work_hours        region      response  \n",
      "count  48000.000000  47999.000000  48000.000000  47993.000000  48000.000000  \n",
      "mean    1079.127667     87.616096     40.424937      2.264684      0.239500  \n",
      "std     7454.966797    403.326534     12.391809      4.949299      0.426783  \n",
      "min        0.000000      0.000000      1.000000      1.000000      0.000000  \n",
      "25%        0.000000      0.000000     40.000000      1.000000      0.000000  \n",
      "50%        0.000000      0.000000     40.000000      1.000000      0.000000  \n",
      "75%        0.000000      0.000000     45.000000      1.000000      0.000000  \n",
      "max    99999.000000   4356.000000     99.000000     41.000000      1.000000  \n",
      "--------------------------------------------------------------------------------\n",
      "数据类型:\n",
      "age                float64\n",
      "total_pageviews    float64\n",
      "edu                float64\n",
      "edu_ages           float64\n",
      "user_level         float64\n",
      "industry           float64\n",
      "value_level          int64\n",
      "act_level          float64\n",
      "sex                float64\n",
      "blue_money           int64\n",
      "red_money          float64\n",
      "work_hours           int64\n",
      "region             float64\n",
      "response             int64\n",
      "dtype: object\n"
     ]
    }
   ],
   "source": [
    "#基本状态查看\n",
    "print('数据概览:')\n",
    "print('-'*80)\n",
    "#查看数据集形状\n",
    "print('数据记录数:{0}\\t特征数量:{1}'.format(df.shape[0],(df.shape[1]-1)))\n",
    "#查看前5条数据\n",
    "print(df.head(5))\n",
    "print('-'*80)\n",
    "print('基本描述性信息:')\n",
    "#查看数据基本描述性信息\n",
    "print(df.describe())\n",
    "print('-'*80)\n",
    "#查看数据类型\n",
    "print('数据类型:')\n",
    "print(df.dtypes)"
   ]
  },
  {
   "cell_type": "code",
   "execution_count": 4,
   "metadata": {
    "collapsed": false
   },
   "outputs": [
    {
     "name": "stdout",
     "output_type": "stream",
     "text": [
      "具有缺失值的列:\n",
      "age                 True\n",
      "total_pageviews     True\n",
      "edu                 True\n",
      "edu_ages            True\n",
      "user_level          True\n",
      "industry            True\n",
      "value_level        False\n",
      "act_level           True\n",
      "sex                 True\n",
      "blue_money         False\n",
      "red_money           True\n",
      "work_hours         False\n",
      "region              True\n",
      "response           False\n",
      "dtype: bool\n",
      "------------------------------\n",
      "具有缺失值的行总记录数:17\n"
     ]
    }
   ],
   "source": [
    "#缺失值审查\n",
    "#判断每一列是否具有缺失值\n",
    "na_cols=df.isnull().any(axis=0)\n",
    "print('具有缺失值的列:')\n",
    "#查看具有缺失值的列\n",
    "print(na_cols)  \n",
    "print('-'*30)\n",
    "#判断每一行是否具有缺失值\n",
    "na_lines=df.isnull().any(axis=1)\n",
    "#查看具有缺失值的行总记录数\n",
    "print('具有缺失值的行总记录数:{0}'.format(na_lines.sum()))"
   ]
  },
  {
   "cell_type": "code",
   "execution_count": 5,
   "metadata": {
    "collapsed": false
   },
   "outputs": [
    {
     "name": "stdout",
     "output_type": "stream",
     "text": [
      "以目标标签为分类汇总计数统计:\n",
      "            age  total_pageviews    edu  edu_ages  user_level  industry  \\\n",
      "response                                                                  \n",
      "0         36503            36503  36504     36504       36503     36503   \n",
      "1         11496            11496  11495     11495       11496     11495   \n",
      "\n",
      "          value_level  act_level    sex  blue_money  red_money  work_hours  \\\n",
      "response                                                                     \n",
      "0               36504      36503  36503       36504      36504       36504   \n",
      "1               11496      11496  11496       11496      11495       11496   \n",
      "\n",
      "          region  \n",
      "response          \n",
      "0          36497  \n",
      "1          11496  \n"
     ]
    }
   ],
   "source": [
    "#类样本均衡审查\n",
    "#以response为分类汇总维度计数统计\n",
    "print('以目标标签为分类汇总计数统计:')\n",
    "print(df.groupby(df['response']).count())"
   ]
  },
  {
   "cell_type": "code",
   "execution_count": 6,
   "metadata": {
    "collapsed": false
   },
   "outputs": [
    {
     "name": "stdout",
     "output_type": "stream",
     "text": [
      "查找是否还有缺失值:\n",
      "0\n"
     ]
    }
   ],
   "source": [
    "#缺失值替换\n",
    "#定义各个列数据转换方法\n",
    "na_rules={'age':df['age'].mean(),\n",
    "          'total_pageviews':df['total_pageviews'].mean(),\n",
    "          'edu':df['edu'].median(),\n",
    "          'edu_ages':df['edu_ages'].median(),\n",
    "          'user_level':df['user_level'].median(),\n",
    "          'industry':df['user_level'].median(),\n",
    "          'act_level':df['act_level'].median(),\n",
    "          'sex':df['sex'].median(),\n",
    "          'red_money':df['red_money'].mean(),\n",
    "          'region':df['region'].median()\n",
    "         }\n",
    "#使用指定方法填充缺失值\n",
    "df1=df.fillna(na_rules)\n",
    "#查找是否还有缺失值\n",
    "print('查找是否还有缺失值:')\n",
    "print(df1.isnull().any().sum())"
   ]
  },
  {
   "cell_type": "code",
   "execution_count": 7,
   "metadata": {
    "collapsed": false
   },
   "outputs": [
    {
     "name": "stdout",
     "output_type": "stream",
     "text": [
      "转换后的数据类型:\n",
      "age                float64\n",
      "total_pageviews    float64\n",
      "edu                  int32\n",
      "edu_ages           float64\n",
      "user_level           int32\n",
      "industry             int32\n",
      "value_level          int32\n",
      "act_level            int32\n",
      "sex                  int32\n",
      "blue_money           int64\n",
      "red_money          float64\n",
      "work_hours           int64\n",
      "region               int32\n",
      "response             int64\n",
      "dtype: object\n"
     ]
    }
   ],
   "source": [
    "#分类与顺序变量类型转换\n",
    "df2=df1\n",
    "#定义要转换的列及其数据类型\n",
    "var_list={'edu':'int32',\n",
    "          'user_level':'int32',\n",
    "          'industry':'int32',\n",
    "          'value_level':'int32',\n",
    "          'act_level':'int32',\n",
    "          'sex':'int32',\n",
    "          'region':'int32'\n",
    "         }\n",
    "#循环读出列名和对应的数据类型\n",
    "for var,type in var_list.iteritems():\n",
    "    #数据类型转换\n",
    "    df2[var]=df1[var].astype(type) \n",
    "print('转换后的数据类型:')\n",
    "print(df2.dtypes)"
   ]
  },
  {
   "cell_type": "code",
   "execution_count": 8,
   "metadata": {
    "collapsed": true
   },
   "outputs": [],
   "source": [
    "#将分类与顺序变量转换为二值化标志变量\n",
    "#选择要做标志转换的列名\n",
    "convert_cols=['edu','user_level','industry','value_level','act_level','sex','region']\n",
    "#选择要做标志转换的数据\n",
    "df_con=df2[convert_cols]\n",
    "#选择不作标志转换的列\n",
    "df_org=df2[['age','total_pageviews','edu_ages', 'blue_money','red_money','work_hours','response']].values\n",
    "#建立标志转换模型对象\n",
    "enc=OneHotEncoder(categories='auto')\n",
    "#训练模型\n",
    "enc.fit(df_con)\n",
    "#转换数据并输出为数组格式\n",
    "df_con_new=enc.transform(df_con).toarray()\n",
    "#将未转换的数据与转换后的数据合并\n",
    "dataset=np.hstack((df_con_new, df_org))"
   ]
  },
  {
   "cell_type": "code",
   "execution_count": 9,
   "metadata": {
    "collapsed": false
   },
   "outputs": [],
   "source": [
    "#划分经过预处理后的数据集\n",
    "df_new=pd.DataFrame(dataset)\n",
    "#获得样本特征集与目标结果集\n",
    "x,y=df_new.iloc[:,:dataset.shape[1]-1],df_new.iloc[:,-1]\n",
    "#将样本特征集与目标结果集随机划分为训练集和测试集，测试集占比20%\n",
    "x_train,x_test,y_train,y_test=train_test_split(x,y,test_size=0.2,random_state=0)"
   ]
  },
  {
   "cell_type": "code",
   "execution_count": 10,
   "metadata": {
    "collapsed": false
   },
   "outputs": [
    {
     "name": "stdout",
     "output_type": "stream",
     "text": [
      "当前模型使用的分类器个数: 20\n"
     ]
    },
    {
     "name": "stderr",
     "output_type": "stream",
     "text": [
      "D:\\devsetup\\anaconda2\\lib\\site-packages\\sklearn\\feature_selection\\univariate_selection.py:114: UserWarning: Features [85] are constant.\n",
      "  UserWarning)\n"
     ]
    },
    {
     "name": "stdout",
     "output_type": "stream",
     "text": [
      "              0     1     2     3     4  mean   std\n",
      "accuracy   0.85  0.86  0.86  0.85  0.85  0.85  0.00\n",
      "f1         0.65  0.67  0.66  0.65  0.64  0.65  0.01\n",
      "precision  0.76  0.76  0.77  0.74  0.75  0.76  0.01\n",
      "recall     0.56  0.61  0.57  0.57  0.56  0.58  0.02\n",
      "roc_auc    0.91  0.91  0.91  0.91  0.91  0.91  0.00\n",
      "运行时间: 31.0020000935\n",
      "------------------------------------------------------------\n",
      "当前模型使用的分类器个数: 40\n",
      "              0     1     2     3     4  mean   std\n",
      "accuracy   0.86  0.87  0.86  0.85  0.85  0.86  0.00\n",
      "f1         0.67  0.69  0.67  0.66  0.66  0.67  0.01\n",
      "precision  0.75  0.77  0.77  0.75  0.75  0.76  0.01\n",
      "recall     0.61  0.62  0.59  0.58  0.58  0.60  0.02\n",
      "roc_auc    0.91  0.92  0.92  0.91  0.91  0.91  0.00\n",
      "运行时间: 51.5839998722\n",
      "------------------------------------------------------------\n",
      "当前模型使用的分类器个数: 60\n",
      "              0     1     2     3     4  mean   std\n",
      "accuracy   0.86  0.87  0.86  0.86  0.86  0.86  0.00\n",
      "f1         0.67  0.70  0.68  0.66  0.66  0.68  0.01\n",
      "precision  0.75  0.77  0.76  0.76  0.76  0.76  0.01\n",
      "recall     0.61  0.64  0.61  0.59  0.59  0.61  0.02\n",
      "roc_auc    0.91  0.92  0.92  0.91  0.92  0.92  0.00\n",
      "运行时间: 84.1089999676\n",
      "------------------------------------------------------------\n",
      "当前模型使用的分类器个数: 80\n",
      "              0     1     2     3     4  mean   std\n",
      "accuracy   0.86  0.87  0.86  0.86  0.86  0.86  0.00\n",
      "f1         0.68  0.70  0.68  0.67  0.67  0.68  0.01\n",
      "precision  0.77  0.77  0.77  0.77  0.76  0.77  0.00\n",
      "recall     0.61  0.64  0.61  0.59  0.60  0.61  0.02\n",
      "roc_auc    0.92  0.92  0.92  0.91  0.92  0.92  0.00\n",
      "运行时间: 117.997999907\n",
      "------------------------------------------------------------\n",
      "当前模型使用的分类器个数: 100\n",
      "              0     1     2     3     4  mean   std\n",
      "accuracy   0.86  0.87  0.86  0.86  0.86  0.86  0.00\n",
      "f1         0.67  0.70  0.68  0.67  0.68  0.68  0.01\n",
      "precision  0.77  0.77  0.77  0.77  0.76  0.77  0.00\n",
      "recall     0.60  0.64  0.61  0.60  0.61  0.61  0.02\n",
      "roc_auc    0.92  0.92  0.92  0.92  0.92  0.92  0.00\n",
      "运行时间: 138.463000059\n",
      "------------------------------------------------------------\n",
      "均值矩阵:\n",
      "                20        40        60        80        100\n",
      "accuracy   0.853984  0.857968  0.860573  0.862396  0.863099\n",
      "f1         0.653554  0.667887  0.675473  0.679437  0.681231\n",
      "precision  0.756490  0.758447  0.762460  0.767862  0.769429\n",
      "recall     0.575545  0.596755  0.606436  0.609374  0.611333\n",
      "roc_auc    0.908074  0.913724  0.915867  0.918171  0.919516\n",
      "------------------------------------------------------------\n",
      "标准差矩阵:\n",
      "                20        40        60        80        100\n",
      "accuracy   0.004472  0.004843  0.004771  0.003683  0.003362\n",
      "f1         0.012832  0.013416  0.014331  0.011481  0.011295\n",
      "precision  0.013795  0.010898  0.007282  0.004393  0.004098\n",
      "recall     0.018467  0.016778  0.019358  0.016107  0.017356\n",
      "roc_auc    0.002310  0.003007  0.002565  0.002608  0.002511\n"
     ]
    }
   ],
   "source": [
    "#获得最佳模型参数\n",
    "#np.seterr(divide='ignore',invalid='ignore')\n",
    "np.seterr(all=\"ignore\")\n",
    "#使用f_classif方法选择特征最明显的50%数量的特征\n",
    "transform=SelectPercentile(f_classif,percentile=50)\n",
    "#建立AdaBoostClassifier模型对象\n",
    "model_adaboost=AdaBoostClassifier()\n",
    "#建立由特征选择和分类模型构成的管道对象\n",
    "model_pipe=Pipeline(steps=[('ANOVA',transform),('model_adaboost',model_adaboost)])\n",
    "#设置交叉检验次数\n",
    "cv=StratifiedKFold(5)\n",
    "#设置分类器参数列表\n",
    "n_estimators=[20,40,60,80,100]\n",
    "#设置交叉检验指标\n",
    "score_methods=['accuracy','f1','precision','recall','roc_auc']\n",
    "#建立空列表用于存放不同参数方法、交叉检验评估指标的均值列表\n",
    "mean_list=list()\n",
    "#建立空列表用于存放不同参数方法、交叉检验评估指标的标准差列表\n",
    "std_list=list()\n",
    "#循环读出每个参数值\n",
    "for parameter in n_estimators:\n",
    "    #记录训练开始的时间\n",
    "    t1=time.time()\n",
    "    #建立空列表用于存放不同交叉检验下各个评估指标的详细数据\n",
    "    score_list=list()\n",
    "    #查看当前模型使用的分类器个数\n",
    "    print ('当前模型使用的分类器个数: %s' % parameter)\n",
    "    #循环读出每个交叉检验指标\n",
    "    for score_method in score_methods:\n",
    "        #通过管道设置分类器个数\n",
    "        model_pipe.set_params(model_adaboost__n_estimators=parameter)\n",
    "        #使用交叉检验计算指定指标的得分\n",
    "        score_tmp=cross_val_score(model_pipe,x_train,y_train,scoring=score_method,cv=cv)\n",
    "        #将交叉检验得分存储到列表\n",
    "        score_list.append(score_tmp)\n",
    "    #将交叉检验详细数据转换为矩阵\n",
    "    score_matrix=pd.DataFrame(np.array(score_list), index=score_methods)\n",
    "    #计算每个评估指标的均值\n",
    "    score_mean=score_matrix.mean(axis=1).rename('mean')\n",
    "    #计算每个评估指标的标准差\n",
    "    score_std=score_matrix.std(axis=1).rename('std')\n",
    "    #将原始详细数据和均值、标准差合并\n",
    "    score_pd=pd.concat([score_matrix, score_mean, score_std], axis=1)\n",
    "    #将每个参数得到的各指标均值追加到列表\n",
    "    mean_list.append(score_mean)\n",
    "    #将每个参数得到的各指标标准差追加到列表\n",
    "    std_list.append(score_std)\n",
    "    #查看每个参数得到的交叉检验指标数据，只保留2位小数\n",
    "    print(score_pd.round(2))\n",
    "    #计算每个参数下算法用时\n",
    "    t2=time.time()\n",
    "    #计算时间间隔\n",
    "    tt=t2-t1\n",
    "    print('运行时间: %s' % str(tt))\n",
    "    print('-'*60)\n",
    "#建立所有分类器参数得到的交叉检验的均值矩阵\n",
    "mean_matrix=np.array(mean_list).T\n",
    "#建立所有分类器参数得到的交叉检验的标准差矩阵\n",
    "std_matrix=np.array(std_list).T\n",
    "#将均值矩阵转换为数据框\n",
    "mean_pd=pd.DataFrame(mean_matrix,index=score_methods,columns=n_estimators)\n",
    "#将均值标准差转换为数据框\n",
    "std_pd=pd.DataFrame(std_matrix,index=score_methods,columns=n_estimators)\n",
    "print('均值矩阵:')\n",
    "print(mean_pd)\n",
    "print('-'*60)\n",
    "print('标准差矩阵:')\n",
    "print(std_pd)"
   ]
  },
  {
   "cell_type": "code",
   "execution_count": 11,
   "metadata": {
    "collapsed": false,
    "scrolled": true
   },
   "outputs": [
    {
     "data": {
      "text/plain": [
       "AdaBoostClassifier(algorithm='SAMME.R', base_estimator=None,\n",
       "          learning_rate=1.0, n_estimators=80, random_state=0)"
      ]
     },
     "execution_count": 11,
     "metadata": {},
     "output_type": "execute_result"
    }
   ],
   "source": [
    "#分类模型训练\n",
    "#应用特征选择对象选择要参与建模的特征变量\n",
    "transform.fit(x_train,y_train)\n",
    "#获得具有显著性特征的特征变量\n",
    "x_final=transform.transform(x_train)\n",
    "#从均值与标准差矩阵信息可以看出分类器数为80的结果与100基本一致，由于分类器数为100的提升效果不明显，所以模型的最佳分类器数设置为80\n",
    "final_model=AdaBoostClassifier(n_estimators=80,random_state=0)\n",
    "#训练模型\n",
    "final_model.fit(x_final,y_train)"
   ]
  },
  {
   "cell_type": "code",
   "execution_count": 12,
   "metadata": {
    "collapsed": false
   },
   "outputs": [
    {
     "name": "stdout",
     "output_type": "stream",
     "text": [
      "测试集与预测信息:\n",
      "       value_level  act_level  response  pred_labels    pro1    pro2\n",
      "37957            3        1.0         1            1  0.4978  0.5022\n",
      "45965            2        1.0         0            1  0.4957  0.5043\n",
      "33541            5        3.0         0            0  0.5117  0.4883\n",
      "9905             2        1.0         1            0  0.5013  0.4987\n",
      "9472             4        1.0         0            0  0.5212  0.4788\n"
     ]
    }
   ],
   "source": [
    "#输出预测值以及预测概率\n",
    "x_test_final=transform.transform(x_test)\n",
    "#获得预测标签\n",
    "predict_labels=pd.DataFrame(final_model.predict(x_test_final),columns=['pred_labels'],dtype=np.int64)\n",
    "predict_labels=pd.DataFrame(predict_labels.values.tolist(),index=x_test.index,columns=predict_labels.columns.values.tolist())\n",
    "#获得预测概率\n",
    "predict_labels_pro=pd.DataFrame(final_model.predict_proba(x_test_final),columns=['pro1','pro2'])\n",
    "predict_labels_pro=pd.DataFrame(predict_labels_pro.values.tolist(),index=x_test.index,columns=predict_labels_pro.columns.values.tolist())\n",
    "#将测试集、预测标签和预测概率合并\n",
    "predict_pd=pd.concat([df.iloc[x_test.index],predict_labels,predict_labels_pro.round(4)],axis=1)\n",
    "print('测试集与预测信息:')\n",
    "print(predict_pd[['value_level','act_level','response','pred_labels','pro1','pro2']].head(5))"
   ]
  },
  {
   "cell_type": "code",
   "execution_count": 13,
   "metadata": {
    "collapsed": false
   },
   "outputs": [
    {
     "name": "stdout",
     "output_type": "stream",
     "text": [
      "模型准确率为:0.860520833333\n"
     ]
    }
   ],
   "source": [
    "#评估模型\n",
    "print ('模型准确率为:{0}'.format(accuracy_score(y_test, predict_labels)))"
   ]
  },
  {
   "cell_type": "code",
   "execution_count": null,
   "metadata": {
    "collapsed": true
   },
   "outputs": [],
   "source": []
  }
 ],
 "metadata": {
  "anaconda-cloud": {},
  "kernelspec": {
   "display_name": "Python [default]",
   "language": "python",
   "name": "python2"
  },
  "language_info": {
   "codemirror_mode": {
    "name": "ipython",
    "version": 2
   },
   "file_extension": ".py",
   "mimetype": "text/x-python",
   "name": "python",
   "nbconvert_exporter": "python",
   "pygments_lexer": "ipython2",
   "version": "2.7.12"
  }
 },
 "nbformat": 4,
 "nbformat_minor": 1
}
